{
  "nbformat": 4,
  "nbformat_minor": 0,
  "metadata": {
    "colab": {
      "provenance": []
    },
    "kernelspec": {
      "name": "python3",
      "display_name": "Python 3"
    },
    "language_info": {
      "name": "python"
    }
  },
  "cells": [
    {
      "cell_type": "markdown",
      "source": [
        "<font color=\"red\"><h1><b><u>Make a COPY</u> of this notebook (by clicking File - Save copy in Drive) so your edits are saved</b></h1></font>"
      ],
      "metadata": {
        "id": "aKZbP9nFMZw9"
      }
    },
    {
      "cell_type": "markdown",
      "source": [
        "# 🏡 **House Price Prediction** with Linear Regression\n",
        "\n",
        "Have you ever wondered how real estate websites estimate what a house is worth? Behind the scenes, they’re using machine learning models — just like the one we’ll build here.\n",
        "\n",
        "In this project, we’ll train a Linear Regression model to predict house prices based on key features, including: <br> <br>\n",
        "\n",
        "* 📏 Square Footage  \n",
        "\n",
        "* 🛏 Number of Bedrooms\n",
        "\n",
        "* 🛁 Number of Bathrooms\n",
        "\n",
        "* 🏗 Year Built\n",
        "\n",
        "* 🌳 Lot Size\n",
        "\n",
        "* 🚗 Garage Size\n",
        "\n",
        "* 🏘 Neighborhood Quality\n",
        " <br>\n",
        "\n",
        "# 💡 **Real-world applications**:\n",
        "\n",
        "Realtors can quickly estimate a fair price before listing a property.\n",
        "\n",
        "Homebuyers can check if a house is overpriced compared to market value.\n",
        "\n",
        "City planners and investors can forecast how new developments may affect housing markets.\n",
        " <br> <br>  \n"
      ],
      "metadata": {
        "id": "iD7OojCJBRJw"
      }
    },
    {
      "cell_type": "markdown",
      "source": [
        "## Step 1: Get the Dataset\n",
        "\n",
        "Before we start coding, we need to download the dataset we'll use for our house price predictions.  \n",
        "\n",
        "- This command will download the file **`house_price_regression_dataset.csv`** onto your Colab environment.  \n",
        "- You only need to run this **once** at the start of the notebook.  \n",
        "- After running it, you should see the dataset file appear in your Colab file explorer (on the left side).  "
      ],
      "metadata": {
        "id": "LoKsahaKFfKx"
      }
    },
    {
      "cell_type": "code",
      "source": [
        "# @title **Run to fetch files**\n",
        "!wget --no-check-certificate \\\n",
        "  'https://drive.google.com/uc?export=download&id=1YvnYEksm4gMMHE0xv68UneD5FemEXeAO' \\\n",
        "  -O house_price_regression_dataset.csv"
      ],
      "metadata": {
        "id": "q-AKfkr6dlYU",
        "cellView": "form",
        "colab": {
          "base_uri": "https://localhost:8080/"
        },
        "outputId": "9c0603a1-a4f6-422f-da4b-c943655e48c5"
      },
      "execution_count": null,
      "outputs": [
        {
          "output_type": "stream",
          "name": "stdout",
          "text": [
            "--2025-09-08 12:09:27--  https://drive.google.com/uc?export=download&id=1YvnYEksm4gMMHE0xv68UneD5FemEXeAO\n",
            "Resolving drive.google.com (drive.google.com)... 74.125.139.101, 74.125.139.138, 74.125.139.100, ...\n",
            "Connecting to drive.google.com (drive.google.com)|74.125.139.101|:443... connected.\n",
            "HTTP request sent, awaiting response... 303 See Other\n",
            "Location: https://drive.usercontent.google.com/download?id=1YvnYEksm4gMMHE0xv68UneD5FemEXeAO&export=download [following]\n",
            "--2025-09-08 12:09:27--  https://drive.usercontent.google.com/download?id=1YvnYEksm4gMMHE0xv68UneD5FemEXeAO&export=download\n",
            "Resolving drive.usercontent.google.com (drive.usercontent.google.com)... 74.125.134.132, 2607:f8b0:400c:c00::84\n",
            "Connecting to drive.usercontent.google.com (drive.usercontent.google.com)|74.125.134.132|:443... connected.\n",
            "HTTP request sent, awaiting response... 200 OK\n",
            "Length: 54781 (53K) [application/octet-stream]\n",
            "Saving to: ‘house_price_regression_dataset.csv’\n",
            "\n",
            "house_price_regress 100%[===================>]  53.50K  --.-KB/s    in 0s      \n",
            "\n",
            "2025-09-08 12:09:28 (109 MB/s) - ‘house_price_regression_dataset.csv’ saved [54781/54781]\n",
            "\n"
          ]
        }
      ]
    },
    {
      "cell_type": "markdown",
      "source": [
        "## Step 2: Import Libraries\n",
        "\n",
        "We’ll import Python libraries for:\n",
        "- Data handling (`pandas`, `numpy`)  \n",
        "- Visualization (`matplotlib`)  \n",
        "- Machine learning (`scikit-learn`)"
      ],
      "metadata": {
        "id": "Ez4mE3iOGBpS"
      }
    },
    {
      "cell_type": "code",
      "source": [
        "# Imports pandas for data handling\n",
        "import pandas as pd\n",
        "\n",
        "# Imports matplotlib for plotting\n",
        "import matplotlib.pyplot as plt\n",
        "\n",
        "# Imports train_test_split from scikit-learn\n",
        "from sklearn.model_selection import train_test_split\n",
        "\n",
        "# Imports LinearRegression model\n",
        "from sklearn.linear_model import LinearRegression\n",
        "\n",
        "# Imports error metrics\n",
        "from sklearn.metrics import mean_absolute_error, r2_score\n",
        "\n",
        "# Imports functions that help with math and computing\n",
        "import numpy as np\n"
      ],
      "metadata": {
        "id": "DFFg9KLzF40T"
      },
      "execution_count": null,
      "outputs": []
    },
    {
      "cell_type": "markdown",
      "source": [
        "## Step 3: Explore the Dataset\n",
        "Let's explore a CSV file with house features and prices."
      ],
      "metadata": {
        "id": "_6mAW4HHGWZk"
      }
    },
    {
      "cell_type": "code",
      "source": [
        "# Loads the dataset from a CSV file into a pandas DataFrame\n",
        "# A DataFrame is like a table or spreadsheet in Python - it has columns and rows representing our data\n",
        "# Pro tip: df means DataFrame\n",
        "df = pd.read_csv(\"house_price_regression_dataset.csv\")\n",
        "\n",
        "\n",
        "# Prints the first couple of rows of the dataset to quickly inspect its contents\n",
        "print(\"first 5 rows of dataset\")\n",
        "print(df.head())\n",
        "\n",
        "\n",
        "# Prints a summary of the dataset, including column names, data types, and non-null counts\n",
        "print(\"dataset info\")\n",
        "print(df.info())\n"
      ],
      "metadata": {
        "id": "wCwcJC3MGeYP",
        "colab": {
          "base_uri": "https://localhost:8080/"
        },
        "outputId": "00fbacab-53ae-40e3-fbed-88dc97ce83de"
      },
      "execution_count": null,
      "outputs": [
        {
          "output_type": "stream",
          "name": "stdout",
          "text": [
            "first 5 rows of dataset\n",
            "   Square_Footage  Num_Bedrooms  Num_Bathrooms  Year_Built  Lot_Size  \\\n",
            "0            1360             2              1        1981  0.599637   \n",
            "1            4272             3              3        2016  4.753014   \n",
            "2            3592             1              2        2016  3.634823   \n",
            "3             966             1              2        1977  2.730667   \n",
            "4            4926             2              1        1993  4.699073   \n",
            "\n",
            "   Garage_Size  Neighborhood_Quality   House_Price  \n",
            "0            0                     5  2.623829e+05  \n",
            "1            1                     6  9.852609e+05  \n",
            "2            0                     9  7.779774e+05  \n",
            "3            1                     8  2.296989e+05  \n",
            "4            0                     8  1.041741e+06  \n",
            "dataset info\n",
            "<class 'pandas.core.frame.DataFrame'>\n",
            "RangeIndex: 1000 entries, 0 to 999\n",
            "Data columns (total 8 columns):\n",
            " #   Column                Non-Null Count  Dtype  \n",
            "---  ------                --------------  -----  \n",
            " 0   Square_Footage        1000 non-null   int64  \n",
            " 1   Num_Bedrooms          1000 non-null   int64  \n",
            " 2   Num_Bathrooms         1000 non-null   int64  \n",
            " 3   Year_Built            1000 non-null   int64  \n",
            " 4   Lot_Size              1000 non-null   float64\n",
            " 5   Garage_Size           1000 non-null   int64  \n",
            " 6   Neighborhood_Quality  1000 non-null   int64  \n",
            " 7   House_Price           1000 non-null   float64\n",
            "dtypes: float64(2), int64(6)\n",
            "memory usage: 62.6 KB\n",
            "None\n"
          ]
        }
      ]
    },
    {
      "cell_type": "markdown",
      "source": [
        "## Step 4: Define Features and Target (Our Inputs and Outputs)\n",
        "\n",
        "- **Features (X):** All the input variables (e.g., square footage, bedrooms).  \n",
        "- **Target (y):** The value we want to predict (house price).  "
      ],
      "metadata": {
        "id": "ayFepUFfPpG2"
      }
    },
    {
      "cell_type": "code",
      "source": [
        "from re import X\n",
        "# X = all the input features (everything except the target column, OR THE COLUMN WITH WHAT WE WANT TO PREDICT)\n",
        "# df.drop(\"House_Price\", axis=1) means: remove the \"House_Price\" column from df\n",
        "# axis=1 tells pandas we are dropping a column (axis=0 would mean dropping a row)\n",
        "X = df.drop(columns=[\"House_Price\"])\n",
        "\n",
        "\n",
        "\n",
        "# y = the target/output we want to predict\n",
        "# df[\"House_Price\"] selects only the \"House_Price\" column from the DataFrame\n",
        "y = df[\"House_Price\"]\n",
        "\n"
      ],
      "metadata": {
        "id": "FQFI42h4Pnp3"
      },
      "execution_count": null,
      "outputs": []
    },
    {
      "cell_type": "markdown",
      "source": [
        "## Step 5: Split the Train-Test Data\n",
        "\n",
        "We split the data into:\n",
        "- **Training set (80%)** → used to train the model  \n",
        "- **Testing set (20%)** → used to evaluate how well the model generalizes  "
      ],
      "metadata": {
        "id": "R6AoiKWQPxaF"
      }
    },
    {
      "cell_type": "code",
      "source": [
        "# Splita the dataset into training and testing sets, so the model has something to learn from and then something to test its knowledge on\n",
        "# X = input features, y = target values\n",
        "# test_size=0.2 means 20% of the data will be used for testing, 80% for training\n",
        "# random_state=42 ensures the split is the same every time we run the code. 42 CAN BE REPLACED WITH ANY NUMBER!\n",
        "X_train, X_test, y_train, y_test = train_test_split(X, y, test_size=0.2, random_state=42)\n",
        "\n",
        "\n",
        "\n"
      ],
      "metadata": {
        "id": "jwN2BXPNP1-1"
      },
      "execution_count": null,
      "outputs": []
    },
    {
      "cell_type": "markdown",
      "source": [
        "## Step 6: Train the Linear Regression Model\n",
        "\n",
        "We create a Linear Regression model and train it on the training data.  \n",
        "This is where the model “learns” the relationships between features and prices.  "
      ],
      "metadata": {
        "id": "Z2uZRoj8P_Gn"
      }
    },
    {
      "cell_type": "code",
      "source": [
        "#Create a Linear Regression model to be trained\n",
        "\n",
        "model = LinearRegression()\n",
        "\n",
        "\n",
        "# Train the model using the training data\n",
        "# X_train = input features (like square footage, bedrooms, etc.)\n",
        "# y_train = target values (actual house prices)\n",
        "# The model learns the relationship between features and price\n",
        "\n",
        "model.fit(X_train, y_train)"
      ],
      "metadata": {
        "id": "bZHbRSAOP-rJ",
        "colab": {
          "base_uri": "https://localhost:8080/",
          "height": 80
        },
        "outputId": "5a7bbcfc-9c4d-4b15-c418-7b0eef781b54"
      },
      "execution_count": null,
      "outputs": [
        {
          "output_type": "execute_result",
          "data": {
            "text/plain": [
              "LinearRegression()"
            ],
            "text/html": [
              "<style>#sk-container-id-1 {\n",
              "  /* Definition of color scheme common for light and dark mode */\n",
              "  --sklearn-color-text: #000;\n",
              "  --sklearn-color-text-muted: #666;\n",
              "  --sklearn-color-line: gray;\n",
              "  /* Definition of color scheme for unfitted estimators */\n",
              "  --sklearn-color-unfitted-level-0: #fff5e6;\n",
              "  --sklearn-color-unfitted-level-1: #f6e4d2;\n",
              "  --sklearn-color-unfitted-level-2: #ffe0b3;\n",
              "  --sklearn-color-unfitted-level-3: chocolate;\n",
              "  /* Definition of color scheme for fitted estimators */\n",
              "  --sklearn-color-fitted-level-0: #f0f8ff;\n",
              "  --sklearn-color-fitted-level-1: #d4ebff;\n",
              "  --sklearn-color-fitted-level-2: #b3dbfd;\n",
              "  --sklearn-color-fitted-level-3: cornflowerblue;\n",
              "\n",
              "  /* Specific color for light theme */\n",
              "  --sklearn-color-text-on-default-background: var(--sg-text-color, var(--theme-code-foreground, var(--jp-content-font-color1, black)));\n",
              "  --sklearn-color-background: var(--sg-background-color, var(--theme-background, var(--jp-layout-color0, white)));\n",
              "  --sklearn-color-border-box: var(--sg-text-color, var(--theme-code-foreground, var(--jp-content-font-color1, black)));\n",
              "  --sklearn-color-icon: #696969;\n",
              "\n",
              "  @media (prefers-color-scheme: dark) {\n",
              "    /* Redefinition of color scheme for dark theme */\n",
              "    --sklearn-color-text-on-default-background: var(--sg-text-color, var(--theme-code-foreground, var(--jp-content-font-color1, white)));\n",
              "    --sklearn-color-background: var(--sg-background-color, var(--theme-background, var(--jp-layout-color0, #111)));\n",
              "    --sklearn-color-border-box: var(--sg-text-color, var(--theme-code-foreground, var(--jp-content-font-color1, white)));\n",
              "    --sklearn-color-icon: #878787;\n",
              "  }\n",
              "}\n",
              "\n",
              "#sk-container-id-1 {\n",
              "  color: var(--sklearn-color-text);\n",
              "}\n",
              "\n",
              "#sk-container-id-1 pre {\n",
              "  padding: 0;\n",
              "}\n",
              "\n",
              "#sk-container-id-1 input.sk-hidden--visually {\n",
              "  border: 0;\n",
              "  clip: rect(1px 1px 1px 1px);\n",
              "  clip: rect(1px, 1px, 1px, 1px);\n",
              "  height: 1px;\n",
              "  margin: -1px;\n",
              "  overflow: hidden;\n",
              "  padding: 0;\n",
              "  position: absolute;\n",
              "  width: 1px;\n",
              "}\n",
              "\n",
              "#sk-container-id-1 div.sk-dashed-wrapped {\n",
              "  border: 1px dashed var(--sklearn-color-line);\n",
              "  margin: 0 0.4em 0.5em 0.4em;\n",
              "  box-sizing: border-box;\n",
              "  padding-bottom: 0.4em;\n",
              "  background-color: var(--sklearn-color-background);\n",
              "}\n",
              "\n",
              "#sk-container-id-1 div.sk-container {\n",
              "  /* jupyter's `normalize.less` sets `[hidden] { display: none; }`\n",
              "     but bootstrap.min.css set `[hidden] { display: none !important; }`\n",
              "     so we also need the `!important` here to be able to override the\n",
              "     default hidden behavior on the sphinx rendered scikit-learn.org.\n",
              "     See: https://github.com/scikit-learn/scikit-learn/issues/21755 */\n",
              "  display: inline-block !important;\n",
              "  position: relative;\n",
              "}\n",
              "\n",
              "#sk-container-id-1 div.sk-text-repr-fallback {\n",
              "  display: none;\n",
              "}\n",
              "\n",
              "div.sk-parallel-item,\n",
              "div.sk-serial,\n",
              "div.sk-item {\n",
              "  /* draw centered vertical line to link estimators */\n",
              "  background-image: linear-gradient(var(--sklearn-color-text-on-default-background), var(--sklearn-color-text-on-default-background));\n",
              "  background-size: 2px 100%;\n",
              "  background-repeat: no-repeat;\n",
              "  background-position: center center;\n",
              "}\n",
              "\n",
              "/* Parallel-specific style estimator block */\n",
              "\n",
              "#sk-container-id-1 div.sk-parallel-item::after {\n",
              "  content: \"\";\n",
              "  width: 100%;\n",
              "  border-bottom: 2px solid var(--sklearn-color-text-on-default-background);\n",
              "  flex-grow: 1;\n",
              "}\n",
              "\n",
              "#sk-container-id-1 div.sk-parallel {\n",
              "  display: flex;\n",
              "  align-items: stretch;\n",
              "  justify-content: center;\n",
              "  background-color: var(--sklearn-color-background);\n",
              "  position: relative;\n",
              "}\n",
              "\n",
              "#sk-container-id-1 div.sk-parallel-item {\n",
              "  display: flex;\n",
              "  flex-direction: column;\n",
              "}\n",
              "\n",
              "#sk-container-id-1 div.sk-parallel-item:first-child::after {\n",
              "  align-self: flex-end;\n",
              "  width: 50%;\n",
              "}\n",
              "\n",
              "#sk-container-id-1 div.sk-parallel-item:last-child::after {\n",
              "  align-self: flex-start;\n",
              "  width: 50%;\n",
              "}\n",
              "\n",
              "#sk-container-id-1 div.sk-parallel-item:only-child::after {\n",
              "  width: 0;\n",
              "}\n",
              "\n",
              "/* Serial-specific style estimator block */\n",
              "\n",
              "#sk-container-id-1 div.sk-serial {\n",
              "  display: flex;\n",
              "  flex-direction: column;\n",
              "  align-items: center;\n",
              "  background-color: var(--sklearn-color-background);\n",
              "  padding-right: 1em;\n",
              "  padding-left: 1em;\n",
              "}\n",
              "\n",
              "\n",
              "/* Toggleable style: style used for estimator/Pipeline/ColumnTransformer box that is\n",
              "clickable and can be expanded/collapsed.\n",
              "- Pipeline and ColumnTransformer use this feature and define the default style\n",
              "- Estimators will overwrite some part of the style using the `sk-estimator` class\n",
              "*/\n",
              "\n",
              "/* Pipeline and ColumnTransformer style (default) */\n",
              "\n",
              "#sk-container-id-1 div.sk-toggleable {\n",
              "  /* Default theme specific background. It is overwritten whether we have a\n",
              "  specific estimator or a Pipeline/ColumnTransformer */\n",
              "  background-color: var(--sklearn-color-background);\n",
              "}\n",
              "\n",
              "/* Toggleable label */\n",
              "#sk-container-id-1 label.sk-toggleable__label {\n",
              "  cursor: pointer;\n",
              "  display: flex;\n",
              "  width: 100%;\n",
              "  margin-bottom: 0;\n",
              "  padding: 0.5em;\n",
              "  box-sizing: border-box;\n",
              "  text-align: center;\n",
              "  align-items: start;\n",
              "  justify-content: space-between;\n",
              "  gap: 0.5em;\n",
              "}\n",
              "\n",
              "#sk-container-id-1 label.sk-toggleable__label .caption {\n",
              "  font-size: 0.6rem;\n",
              "  font-weight: lighter;\n",
              "  color: var(--sklearn-color-text-muted);\n",
              "}\n",
              "\n",
              "#sk-container-id-1 label.sk-toggleable__label-arrow:before {\n",
              "  /* Arrow on the left of the label */\n",
              "  content: \"▸\";\n",
              "  float: left;\n",
              "  margin-right: 0.25em;\n",
              "  color: var(--sklearn-color-icon);\n",
              "}\n",
              "\n",
              "#sk-container-id-1 label.sk-toggleable__label-arrow:hover:before {\n",
              "  color: var(--sklearn-color-text);\n",
              "}\n",
              "\n",
              "/* Toggleable content - dropdown */\n",
              "\n",
              "#sk-container-id-1 div.sk-toggleable__content {\n",
              "  max-height: 0;\n",
              "  max-width: 0;\n",
              "  overflow: hidden;\n",
              "  text-align: left;\n",
              "  /* unfitted */\n",
              "  background-color: var(--sklearn-color-unfitted-level-0);\n",
              "}\n",
              "\n",
              "#sk-container-id-1 div.sk-toggleable__content.fitted {\n",
              "  /* fitted */\n",
              "  background-color: var(--sklearn-color-fitted-level-0);\n",
              "}\n",
              "\n",
              "#sk-container-id-1 div.sk-toggleable__content pre {\n",
              "  margin: 0.2em;\n",
              "  border-radius: 0.25em;\n",
              "  color: var(--sklearn-color-text);\n",
              "  /* unfitted */\n",
              "  background-color: var(--sklearn-color-unfitted-level-0);\n",
              "}\n",
              "\n",
              "#sk-container-id-1 div.sk-toggleable__content.fitted pre {\n",
              "  /* unfitted */\n",
              "  background-color: var(--sklearn-color-fitted-level-0);\n",
              "}\n",
              "\n",
              "#sk-container-id-1 input.sk-toggleable__control:checked~div.sk-toggleable__content {\n",
              "  /* Expand drop-down */\n",
              "  max-height: 200px;\n",
              "  max-width: 100%;\n",
              "  overflow: auto;\n",
              "}\n",
              "\n",
              "#sk-container-id-1 input.sk-toggleable__control:checked~label.sk-toggleable__label-arrow:before {\n",
              "  content: \"▾\";\n",
              "}\n",
              "\n",
              "/* Pipeline/ColumnTransformer-specific style */\n",
              "\n",
              "#sk-container-id-1 div.sk-label input.sk-toggleable__control:checked~label.sk-toggleable__label {\n",
              "  color: var(--sklearn-color-text);\n",
              "  background-color: var(--sklearn-color-unfitted-level-2);\n",
              "}\n",
              "\n",
              "#sk-container-id-1 div.sk-label.fitted input.sk-toggleable__control:checked~label.sk-toggleable__label {\n",
              "  background-color: var(--sklearn-color-fitted-level-2);\n",
              "}\n",
              "\n",
              "/* Estimator-specific style */\n",
              "\n",
              "/* Colorize estimator box */\n",
              "#sk-container-id-1 div.sk-estimator input.sk-toggleable__control:checked~label.sk-toggleable__label {\n",
              "  /* unfitted */\n",
              "  background-color: var(--sklearn-color-unfitted-level-2);\n",
              "}\n",
              "\n",
              "#sk-container-id-1 div.sk-estimator.fitted input.sk-toggleable__control:checked~label.sk-toggleable__label {\n",
              "  /* fitted */\n",
              "  background-color: var(--sklearn-color-fitted-level-2);\n",
              "}\n",
              "\n",
              "#sk-container-id-1 div.sk-label label.sk-toggleable__label,\n",
              "#sk-container-id-1 div.sk-label label {\n",
              "  /* The background is the default theme color */\n",
              "  color: var(--sklearn-color-text-on-default-background);\n",
              "}\n",
              "\n",
              "/* On hover, darken the color of the background */\n",
              "#sk-container-id-1 div.sk-label:hover label.sk-toggleable__label {\n",
              "  color: var(--sklearn-color-text);\n",
              "  background-color: var(--sklearn-color-unfitted-level-2);\n",
              "}\n",
              "\n",
              "/* Label box, darken color on hover, fitted */\n",
              "#sk-container-id-1 div.sk-label.fitted:hover label.sk-toggleable__label.fitted {\n",
              "  color: var(--sklearn-color-text);\n",
              "  background-color: var(--sklearn-color-fitted-level-2);\n",
              "}\n",
              "\n",
              "/* Estimator label */\n",
              "\n",
              "#sk-container-id-1 div.sk-label label {\n",
              "  font-family: monospace;\n",
              "  font-weight: bold;\n",
              "  display: inline-block;\n",
              "  line-height: 1.2em;\n",
              "}\n",
              "\n",
              "#sk-container-id-1 div.sk-label-container {\n",
              "  text-align: center;\n",
              "}\n",
              "\n",
              "/* Estimator-specific */\n",
              "#sk-container-id-1 div.sk-estimator {\n",
              "  font-family: monospace;\n",
              "  border: 1px dotted var(--sklearn-color-border-box);\n",
              "  border-radius: 0.25em;\n",
              "  box-sizing: border-box;\n",
              "  margin-bottom: 0.5em;\n",
              "  /* unfitted */\n",
              "  background-color: var(--sklearn-color-unfitted-level-0);\n",
              "}\n",
              "\n",
              "#sk-container-id-1 div.sk-estimator.fitted {\n",
              "  /* fitted */\n",
              "  background-color: var(--sklearn-color-fitted-level-0);\n",
              "}\n",
              "\n",
              "/* on hover */\n",
              "#sk-container-id-1 div.sk-estimator:hover {\n",
              "  /* unfitted */\n",
              "  background-color: var(--sklearn-color-unfitted-level-2);\n",
              "}\n",
              "\n",
              "#sk-container-id-1 div.sk-estimator.fitted:hover {\n",
              "  /* fitted */\n",
              "  background-color: var(--sklearn-color-fitted-level-2);\n",
              "}\n",
              "\n",
              "/* Specification for estimator info (e.g. \"i\" and \"?\") */\n",
              "\n",
              "/* Common style for \"i\" and \"?\" */\n",
              "\n",
              ".sk-estimator-doc-link,\n",
              "a:link.sk-estimator-doc-link,\n",
              "a:visited.sk-estimator-doc-link {\n",
              "  float: right;\n",
              "  font-size: smaller;\n",
              "  line-height: 1em;\n",
              "  font-family: monospace;\n",
              "  background-color: var(--sklearn-color-background);\n",
              "  border-radius: 1em;\n",
              "  height: 1em;\n",
              "  width: 1em;\n",
              "  text-decoration: none !important;\n",
              "  margin-left: 0.5em;\n",
              "  text-align: center;\n",
              "  /* unfitted */\n",
              "  border: var(--sklearn-color-unfitted-level-1) 1pt solid;\n",
              "  color: var(--sklearn-color-unfitted-level-1);\n",
              "}\n",
              "\n",
              ".sk-estimator-doc-link.fitted,\n",
              "a:link.sk-estimator-doc-link.fitted,\n",
              "a:visited.sk-estimator-doc-link.fitted {\n",
              "  /* fitted */\n",
              "  border: var(--sklearn-color-fitted-level-1) 1pt solid;\n",
              "  color: var(--sklearn-color-fitted-level-1);\n",
              "}\n",
              "\n",
              "/* On hover */\n",
              "div.sk-estimator:hover .sk-estimator-doc-link:hover,\n",
              ".sk-estimator-doc-link:hover,\n",
              "div.sk-label-container:hover .sk-estimator-doc-link:hover,\n",
              ".sk-estimator-doc-link:hover {\n",
              "  /* unfitted */\n",
              "  background-color: var(--sklearn-color-unfitted-level-3);\n",
              "  color: var(--sklearn-color-background);\n",
              "  text-decoration: none;\n",
              "}\n",
              "\n",
              "div.sk-estimator.fitted:hover .sk-estimator-doc-link.fitted:hover,\n",
              ".sk-estimator-doc-link.fitted:hover,\n",
              "div.sk-label-container:hover .sk-estimator-doc-link.fitted:hover,\n",
              ".sk-estimator-doc-link.fitted:hover {\n",
              "  /* fitted */\n",
              "  background-color: var(--sklearn-color-fitted-level-3);\n",
              "  color: var(--sklearn-color-background);\n",
              "  text-decoration: none;\n",
              "}\n",
              "\n",
              "/* Span, style for the box shown on hovering the info icon */\n",
              ".sk-estimator-doc-link span {\n",
              "  display: none;\n",
              "  z-index: 9999;\n",
              "  position: relative;\n",
              "  font-weight: normal;\n",
              "  right: .2ex;\n",
              "  padding: .5ex;\n",
              "  margin: .5ex;\n",
              "  width: min-content;\n",
              "  min-width: 20ex;\n",
              "  max-width: 50ex;\n",
              "  color: var(--sklearn-color-text);\n",
              "  box-shadow: 2pt 2pt 4pt #999;\n",
              "  /* unfitted */\n",
              "  background: var(--sklearn-color-unfitted-level-0);\n",
              "  border: .5pt solid var(--sklearn-color-unfitted-level-3);\n",
              "}\n",
              "\n",
              ".sk-estimator-doc-link.fitted span {\n",
              "  /* fitted */\n",
              "  background: var(--sklearn-color-fitted-level-0);\n",
              "  border: var(--sklearn-color-fitted-level-3);\n",
              "}\n",
              "\n",
              ".sk-estimator-doc-link:hover span {\n",
              "  display: block;\n",
              "}\n",
              "\n",
              "/* \"?\"-specific style due to the `<a>` HTML tag */\n",
              "\n",
              "#sk-container-id-1 a.estimator_doc_link {\n",
              "  float: right;\n",
              "  font-size: 1rem;\n",
              "  line-height: 1em;\n",
              "  font-family: monospace;\n",
              "  background-color: var(--sklearn-color-background);\n",
              "  border-radius: 1rem;\n",
              "  height: 1rem;\n",
              "  width: 1rem;\n",
              "  text-decoration: none;\n",
              "  /* unfitted */\n",
              "  color: var(--sklearn-color-unfitted-level-1);\n",
              "  border: var(--sklearn-color-unfitted-level-1) 1pt solid;\n",
              "}\n",
              "\n",
              "#sk-container-id-1 a.estimator_doc_link.fitted {\n",
              "  /* fitted */\n",
              "  border: var(--sklearn-color-fitted-level-1) 1pt solid;\n",
              "  color: var(--sklearn-color-fitted-level-1);\n",
              "}\n",
              "\n",
              "/* On hover */\n",
              "#sk-container-id-1 a.estimator_doc_link:hover {\n",
              "  /* unfitted */\n",
              "  background-color: var(--sklearn-color-unfitted-level-3);\n",
              "  color: var(--sklearn-color-background);\n",
              "  text-decoration: none;\n",
              "}\n",
              "\n",
              "#sk-container-id-1 a.estimator_doc_link.fitted:hover {\n",
              "  /* fitted */\n",
              "  background-color: var(--sklearn-color-fitted-level-3);\n",
              "}\n",
              "</style><div id=\"sk-container-id-1\" class=\"sk-top-container\"><div class=\"sk-text-repr-fallback\"><pre>LinearRegression()</pre><b>In a Jupyter environment, please rerun this cell to show the HTML representation or trust the notebook. <br />On GitHub, the HTML representation is unable to render, please try loading this page with nbviewer.org.</b></div><div class=\"sk-container\" hidden><div class=\"sk-item\"><div class=\"sk-estimator fitted sk-toggleable\"><input class=\"sk-toggleable__control sk-hidden--visually\" id=\"sk-estimator-id-1\" type=\"checkbox\" checked><label for=\"sk-estimator-id-1\" class=\"sk-toggleable__label fitted sk-toggleable__label-arrow\"><div><div>LinearRegression</div></div><div><a class=\"sk-estimator-doc-link fitted\" rel=\"noreferrer\" target=\"_blank\" href=\"https://scikit-learn.org/1.6/modules/generated/sklearn.linear_model.LinearRegression.html\">?<span>Documentation for LinearRegression</span></a><span class=\"sk-estimator-doc-link fitted\">i<span>Fitted</span></span></div></label><div class=\"sk-toggleable__content fitted\"><pre>LinearRegression()</pre></div> </div></div></div></div>"
            ]
          },
          "metadata": {},
          "execution_count": 13
        }
      ]
    },
    {
      "cell_type": "markdown",
      "source": [
        "## Step 7: Make Predictions\n",
        "\n",
        "We now use the trained model to predict house prices for the **test set**.  "
      ],
      "metadata": {
        "id": "dKuvdqIMQHk7"
      }
    },
    {
      "cell_type": "code",
      "source": [
        "# Use the trained model to make predictions on the test set\n",
        "# X_test = features of houses the model hasn't seen before\n",
        "# y_pred = the predicted house prices for these test houses\n",
        "\n",
        "y_pred = model.predict(X_test)"
      ],
      "metadata": {
        "id": "f2uVrcI3QIvE"
      },
      "execution_count": null,
      "outputs": []
    },
    {
      "cell_type": "markdown",
      "source": [
        "## Step 8: Evaluate the Model\n",
        "\n",
        "We’ll evaluate performance using:\n",
        "- **Mean Absolute Error (MAE):** average error size, in the same units as house price.  \n",
        "- **R² Score:** how much of the variance in house prices our model explains (1 = perfect fit).  "
      ],
      "metadata": {
        "id": "mgqZ5cQiQNFj"
      }
    },
    {
      "cell_type": "code",
      "source": [
        "# Calculate how far off our predictions are on average\n",
        "# MAE = Mean Absolute Error = average of all the errors\n",
        "mae = mean_absolute_error(y_test, y_pred)\n",
        "\n",
        "# Print the average error of our predictions\n",
        "print(\"mean absolute error\", mae)\n",
        "\n",
        "# Calculate how well the model matches the data\n",
        "# R² Score = 1 means perfect prediction, we want to be close to one!\n",
        "r2 = r2_score(y_test, y_pred)\n",
        "\n",
        "# Print how well our model fits the data\n",
        "print(\"R2 score= \", r2)\n"
      ],
      "metadata": {
        "id": "P2WJ0dxmQLIw",
        "colab": {
          "base_uri": "https://localhost:8080/"
        },
        "outputId": "119c03a6-9f00-4f58-b643-ee695fe4b6b6"
      },
      "execution_count": null,
      "outputs": [
        {
          "output_type": "stream",
          "name": "stdout",
          "text": [
            "mean absolute error 8174.583600008702\n",
            "R2 score=  0.9984263636823408\n"
          ]
        }
      ]
    },
    {
      "cell_type": "markdown",
      "source": [
        "## Step 9: Visualization\n",
        "\n",
        "Let’s plot the **Actual vs Predicted house prices**.  \n",
        "If predictions are perfect, points should lie along the red dashed line.  "
      ],
      "metadata": {
        "id": "82tvlkZRQjBa"
      }
    },
    {
      "cell_type": "code",
      "source": [
        "# Create a figure for the plot and set its size (width=8, height=6 inches)\n",
        "\n",
        "plt.figure(figsize= (8,6))\n",
        "# Create a scatter plot of actual vs predicted house prices\n",
        "# Each point represents one house\n",
        "# y_test = actual prices, y_pred = predicted prices\n",
        "plt.scatter(y_test, y_pred)\n",
        "\n",
        "# Labels the x-axis\n",
        "\n",
        "plt.xlabel(\"actual house prices\")\n",
        "# Labels the y-axis\n",
        "plt.ylabel(\"predicted house prices\")\n",
        "\n",
        "# Sets the title of the plot\n",
        "plt.title(\"house price prediction : actual vs predicted\")\n",
        "\n",
        "# Draws a red dashed line representing the predictions\n",
        "# The [y_test.min(), y_test.max()] lists are x and y coordinates\n",
        "# This line connects two points (the lowest prediction and the highest prediction) together, showing all of the predictions\n",
        "# r-- makes the line dashed and red. It is for styling\n",
        "plt.plot([y_test.min(), y_test.max()] , [y_test.min(), y_test.max()])\n",
        "\n",
        "# Displays the plot\n",
        "\n",
        "plt.show()"
      ],
      "metadata": {
        "id": "MGCp3P3ZQnJ8",
        "colab": {
          "base_uri": "https://localhost:8080/",
          "height": 514
        },
        "outputId": "c54882f9-ae54-4f62-b1d5-3f0a2ec8c7db"
      },
      "execution_count": null,
      "outputs": [
        {
          "output_type": "display_data",
          "data": {
            "text/plain": [
              "<Figure size 800x600 with 1 Axes>"
            ],
            "image/png": "[encoded data removed]"
          },
          "metadata": {}
        }
      ]
    },
    {
      "cell_type": "markdown",
      "source": [
        "## Step 10: Predict New House Prices\n",
        "\n",
        "\n",
        "Our model is ready. Let’s put it to the test. Instead of just looking at raw numbers, imagine this as a mini real-estate / finance tool.\n",
        "\n",
        "Say a buyer is interested in a 2,000 sq ft home, with 3 bedrooms, 2 bathrooms, a 2-car garage, built in 2010, sitting on a 0.1 acre lot in a good neighborhood.\n",
        "\n",
        "Let's see how expensive this house might be!"
      ],
      "metadata": {
        "id": "TivqqthxQroY"
      }
    },
    {
      "cell_type": "code",
      "source": [
        "def predict_house_price(Square_Footage, Num_Bedrooms, Num_Bathrooms, Year_Built, Lot_Size, Garage_Size, Neighborhood_Quality):\n",
        "  data = np.array([[Square_Footage, Num_Bedrooms, Num_Bathrooms, Year_Built, Lot_Size, Garage_Size, Neighborhood_Quality ]])\n",
        "\n",
        "  df_data = pd.DataFrame(data, columns=X.columns)\n",
        "\n",
        "  return model.predict(df_data)[0]\n"
      ],
      "metadata": {
        "id": "n9JICQmJQs2C"
      },
      "execution_count": null,
      "outputs": []
    },
    {
      "cell_type": "markdown",
      "source": [
        "Calling the function"
      ],
      "metadata": {
        "id": "-81Qen7MQwsH"
      }
    },
    {
      "cell_type": "code",
      "source": [
        "example_price = predict_house_price(2000, 3, 2, 2010, 0.1, 2, 7)\n",
        "print(\"Predicted Price for Example house: $\", round(example_price, 3))"
      ],
      "metadata": {
        "id": "f4qCglC1QyHN",
        "colab": {
          "base_uri": "https://localhost:8080/"
        },
        "outputId": "5bbaa945-0aa6-45c5-92ab-2e161f4eef19"
      },
      "execution_count": null,
      "outputs": [
        {
          "output_type": "stream",
          "name": "stdout",
          "text": [
            "Predicted Price for Example house: $ 445147.582\n"
          ]
        }
      ]
    }
  ]
}